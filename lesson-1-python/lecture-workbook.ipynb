{
 "cells": [
  {
   "cell_type": "markdown",
   "id": "a5ef82df-4310-4376-ac44-e6cb10a544d6",
   "metadata": {
    "editable": true,
    "slideshow": {
     "slide_type": "slide"
    },
    "tags": []
   },
   "source": [
    "# Lesson 1: The Python language (workbook)"
   ]
  },
  {
   "cell_type": "markdown",
   "id": "97bf3e43-7ec2-466c-80af-edb65c952098",
   "metadata": {
    "editable": true,
    "slideshow": {
     "slide_type": ""
    },
    "tags": []
   },
   "source": [
    "Import statements: run these first."
   ]
  },
  {
   "cell_type": "code",
   "execution_count": 1,
   "id": "79e5fac1-3391-41f4-aa26-03a8e7f072e3",
   "metadata": {
    "editable": true,
    "slideshow": {
     "slide_type": ""
    },
    "tags": []
   },
   "outputs": [],
   "source": [
    "# Python standard library\n",
    "import numbers\n",
    "import json\n",
    "import math\n",
    "\n",
    "# Scientific Python ecosystem\n",
    "import numpy as np\n",
    "import matplotlib.pyplot as plt\n",
    "from mpl_toolkits.mplot3d import Axes3D\n",
    "\n",
    "# Particle physics tools\n",
    "from hepunits import GeV\n",
    "from particle import Particle\n",
    "import vector"
   ]
  },
  {
   "cell_type": "markdown",
   "id": "3ad8649b-aca4-4bc8-9e9d-7b629c88b91f",
   "metadata": {
    "editable": true,
    "slideshow": {
     "slide_type": ""
    },
    "tags": []
   },
   "source": [
    "Use these empty cells to try things on your own."
   ]
  },
  {
   "cell_type": "code",
   "execution_count": 2,
   "id": "511cbe6f-f986-45a3-9883-11fa974ee111",
   "metadata": {
    "editable": true,
    "slideshow": {
     "slide_type": ""
    },
    "tags": []
   },
   "outputs": [],
   "source": [
    "dataset = json.load(open(\"../data/SMHiggsToZZTo4L.json\"))"
   ]
  },
  {
   "cell_type": "code",
   "execution_count": 3,
   "id": "47099bd9-ae4a-4746-be8f-204fce0662ba",
   "metadata": {
    "editable": true,
    "slideshow": {
     "slide_type": ""
    },
    "tags": []
   },
   "outputs": [
    {
     "data": {
      "text/plain": [
       "list"
      ]
     },
     "execution_count": 3,
     "metadata": {},
     "output_type": "execute_result"
    }
   ],
   "source": [
    "type(dataset)"
   ]
  },
  {
   "cell_type": "code",
   "execution_count": 4,
   "id": "a7b42bf3-27fb-4dac-80c6-85227003b211",
   "metadata": {
    "editable": true,
    "slideshow": {
     "slide_type": ""
    },
    "tags": []
   },
   "outputs": [
    {
     "data": {
      "text/plain": [
       "10000"
      ]
     },
     "execution_count": 4,
     "metadata": {},
     "output_type": "execute_result"
    }
   ],
   "source": [
    "len(dataset)"
   ]
  },
  {
   "cell_type": "code",
   "execution_count": 6,
   "id": "01c6c2e2-5423-4a2b-95ce-d8b2cce354b2",
   "metadata": {},
   "outputs": [
    {
     "data": {
      "text/plain": [
       "[{'run': 1,\n",
       "  'luminosityBlock': 156,\n",
       "  'event': 46501,\n",
       "  'PV': {'x': 0.24369880557060242,\n",
       "   'y': 0.3936990201473236,\n",
       "   'z': 1.451307773590088},\n",
       "  'electron': [],\n",
       "  'muon': [{'pt': 63.04386901855469,\n",
       "    'eta': -0.7186822295188904,\n",
       "    'phi': 2.968005895614624,\n",
       "    'mass': 0.10565836727619171,\n",
       "    'charge': 1,\n",
       "    'pfRelIso03_all': 0.0,\n",
       "    'pfRelIso04_all': 0.0,\n",
       "    'dxy': -0.004785160068422556,\n",
       "    'dxyErr': 0.0060764215886592865,\n",
       "    'dz': 0.09005985409021378,\n",
       "    'dzErr': 0.044572051614522934},\n",
       "   {'pt': 38.12034606933594,\n",
       "    'eta': -0.8794569969177246,\n",
       "    'phi': -1.0324749946594238,\n",
       "    'mass': 0.10565836727619171,\n",
       "    'charge': -1,\n",
       "    'pfRelIso03_all': 0.0,\n",
       "    'pfRelIso04_all': 0.0,\n",
       "    'dxy': 0.0005746808601543307,\n",
       "    'dxyErr': 0.0013040687190368772,\n",
       "    'dz': -0.0032290113158524036,\n",
       "    'dzErr': 0.003023269586265087},\n",
       "   {'pt': 4.04868745803833,\n",
       "    'eta': -0.320764422416687,\n",
       "    'phi': 1.0385035276412964,\n",
       "    'mass': 0.10565836727619171,\n",
       "    'charge': 1,\n",
       "    'pfRelIso03_all': 0.0,\n",
       "    'pfRelIso04_all': 0.17997965216636658,\n",
       "    'dxy': -0.00232272082939744,\n",
       "    'dxyErr': 0.004343290813267231,\n",
       "    'dz': -0.005162843037396669,\n",
       "    'dzErr': 0.004190043080598116}],\n",
       "  'MET': {'pt': 21.929929733276367, 'phi': -2.7301223278045654}}]"
      ]
     },
     "execution_count": 6,
     "metadata": {},
     "output_type": "execute_result"
    }
   ],
   "source": [
    "dataset[0:1]"
   ]
  },
  {
   "cell_type": "code",
   "execution_count": 9,
   "id": "6c9f771e-5e28-4ba5-8999-68cd02aabc55",
   "metadata": {},
   "outputs": [],
   "source": [
    "def to_vector(particle):\n",
    "    return vector.obj(\n",
    "        pt=particle[\"pt\"],\n",
    "        eta=particle[\"eta\"],\n",
    "        phi=particle[\"phi\"],\n",
    "        mass=particle[\"mass\"],\n",
    "    )"
   ]
  },
  {
   "cell_type": "code",
   "execution_count": 10,
   "id": "8706ac78-9c64-41c4-a48c-949849aacead",
   "metadata": {},
   "outputs": [
    {
     "name": "stdout",
     "output_type": "stream",
     "text": [
      "80.03810173614954 -62.09642131826239 10.888704252275756 -49.31082178393471\n",
      "53.837451985499946 19.5441283607252 -32.729005959017954 -38.01709205284513\n",
      "4.260074277908423 2.05475040026448 3.4885342087314886 -1.3210598131215057\n"
     ]
    }
   ],
   "source": [
    "for particle in dataset[0][\"muon\"]:\n",
    "    v = to_vector(particle)\n",
    "    print(v.E, v.px, v.py, v.pz)"
   ]
  },
  {
   "cell_type": "code",
   "execution_count": 12,
   "id": "8790da95-1252-4499-afa2-75b0dfa931db",
   "metadata": {},
   "outputs": [
    {
     "data": {
      "text/plain": [
       "7"
      ]
     },
     "execution_count": 12,
     "metadata": {},
     "output_type": "execute_result"
    }
   ],
   "source": [
    "len(dataset[0])"
   ]
  },
  {
   "cell_type": "code",
   "execution_count": 13,
   "id": "15d42582-63c3-4355-ba77-28f5fc2c438a",
   "metadata": {},
   "outputs": [
    {
     "data": {
      "application/vnd.jupyter.widget-view+json": {
       "model_id": "bd052cf03787473b971a147a8291b045",
       "version_major": 2,
       "version_minor": 0
      },
      "image/png": "[encoded data removed]",
      "text/html": [
       "\n",
       "            <div style=\"display: inline-block;\">\n",
       "                <div class=\"jupyter-widgets widget-label\" style=\"text-align: center;\">\n",
       "                    Figure\n",
       "                </div>\n",
       "                <img src='data:image/png;base64,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' width=640.0/>\n",
       "            </div>\n",
       "        "
      ],
      "text/plain": [
       "Canvas(toolbar=Toolbar(toolitems=[('Home', 'Reset original view', 'home', 'home'), ('Back', 'Back to previous …"
      ]
     },
     "metadata": {},
     "output_type": "display_data"
    }
   ],
   "source": [
    "%matplotlib widget\n",
    "\n",
    "fig = plt.figure()"
   ]
  },
  {
   "cell_type": "code",
   "execution_count": 53,
   "id": "81e557f1-ead4-4969-86e7-33d4d18e3451",
   "metadata": {},
   "outputs": [],
   "source": [
    "fig.clf()  # clear figure\n",
    "ax = fig.add_subplot(111, projection=\"3d\")\n",
    "\n",
    "# 25 Gaussian-distributed (x, y, z) triplets\n",
    "for x, y, z in np.random.normal(0, 1, (25, 3)):\n",
    "    # make a black line from (0, 0, 0) to (x, y, z)\n",
    "    ax.plot([0, x], [0, y], [0, z], c=\"black\")\n"
   ]
  },
  {
   "cell_type": "code",
   "execution_count": 17,
   "id": "a15413ea-fde1-4dff-adaa-78b9832991c1",
   "metadata": {},
   "outputs": [],
   "source": [
    "def draw_particle(ax, particle, color):\n",
    "    v = to_vector(particle)\n",
    "    ax.plot([0, v.px], [0, v.py], [0, v.pz], c=color)"
   ]
  },
  {
   "cell_type": "code",
   "execution_count": 18,
   "id": "26fb1f1c-a8a9-4707-b815-926e5d982d0d",
   "metadata": {},
   "outputs": [],
   "source": [
    "def draw_event(ax, event):\n",
    "    for particle in event[\"electron\"]:\n",
    "        draw_particle(ax, particle, \"blue\")\n",
    "    for particle in event[\"muon\"]:\n",
    "        draw_particle(ax, particle, \"green\")"
   ]
  },
  {
   "cell_type": "code",
   "execution_count": 19,
   "id": "5a539ab9-8ac7-41bc-adeb-4c63f218417b",
   "metadata": {},
   "outputs": [],
   "source": [
    "fig.clf()\n",
    "ax = fig.add_subplot(111, projection=\"3d\")\n",
    "\n",
    "draw_event(ax, dataset[0])"
   ]
  },
  {
   "cell_type": "code",
   "execution_count": 20,
   "id": "d91419da-6e16-409b-88b0-4e15f611c9a5",
   "metadata": {},
   "outputs": [],
   "source": [
    "fig.clf()\n",
    "ax = fig.add_subplot(111, projection=\"3d\")\n",
    "\n",
    "for event in dataset[0:10]:\n",
    "    draw_event(ax, event)"
   ]
  },
  {
   "cell_type": "markdown",
   "id": "bc66e9a5-9bca-4cad-a3ff-eba76a72b031",
   "metadata": {
    "editable": true,
    "slideshow": {
     "slide_type": ""
    },
    "tags": []
   },
   "source": [
    "We'll be using these equations a lot:\n",
    "\n",
    "$$p = \\sqrt{{p_x}^2 + {p_y}^2 + {p_z}^2}$$\n",
    "\n",
    "$$m = \\sqrt{E^2 - p^2}$$"
   ]
  },
  {
   "cell_type": "markdown",
   "id": "38366e2b-bb9d-4dca-a3b3-0e3f836a31b8",
   "metadata": {
    "editable": true,
    "slideshow": {
     "slide_type": "fragment"
    },
    "tags": []
   },
   "source": [
    "**Quizlet:** Fix the mistake!"
   ]
  },
  {
   "cell_type": "code",
   "execution_count": 7,
   "id": "3bf6f78f-c5cf-4014-a782-f4a7b1d10948",
   "metadata": {
    "editable": true,
    "slideshow": {
     "slide_type": ""
    },
    "tags": []
   },
   "outputs": [],
   "source": [
    "E = 68.1289790\n",
    "px = -17.945541\n",
    "py = 13.1652603\n",
    "pz = 64.3908386"
   ]
  },
  {
   "cell_type": "code",
   "execution_count": 8,
   "id": "795c2084-3830-4961-8939-aab13c4029d0",
   "metadata": {
    "editable": true,
    "slideshow": {
     "slide_type": ""
    },
    "tags": []
   },
   "outputs": [
    {
     "data": {
      "text/plain": [
       "92.94632597460625"
      ]
     },
     "execution_count": 8,
     "metadata": {},
     "output_type": "execute_result"
    }
   ],
   "source": [
    "m = (E**2 - px**2 + py**2 + pz**2)**(1/2)\n",
    "m"
   ]
  },
  {
   "cell_type": "markdown",
   "id": "1215ee11-b351-4d86-b44e-a2d9a9eeebd3",
   "metadata": {
    "editable": true,
    "slideshow": {
     "slide_type": ""
    },
    "tags": []
   },
   "source": [
    "`m` should be `0.10565709514578395`. What was the mistake?"
   ]
  },
  {
   "cell_type": "code",
   "execution_count": null,
   "id": "1726a486-0321-43fc-a5e7-de755a334cab",
   "metadata": {
    "editable": true,
    "slideshow": {
     "slide_type": ""
    },
    "tags": []
   },
   "outputs": [],
   "source": []
  },
  {
   "cell_type": "code",
   "execution_count": null,
   "id": "1752b9e0-3d95-4b38-8c7f-17efc9d324d3",
   "metadata": {
    "editable": true,
    "slideshow": {
     "slide_type": ""
    },
    "tags": []
   },
   "outputs": [],
   "source": []
  },
  {
   "cell_type": "code",
   "execution_count": null,
   "id": "961120a9-5d60-4717-9055-070592b94426",
   "metadata": {
    "editable": true,
    "slideshow": {
     "slide_type": ""
    },
    "tags": []
   },
   "outputs": [],
   "source": []
  },
  {
   "cell_type": "markdown",
   "id": "52a803b1-a947-4fa5-8336-0269fca090ea",
   "metadata": {
    "editable": true,
    "slideshow": {
     "slide_type": ""
    },
    "tags": []
   },
   "source": [
    "What can you do with this `muon` object?"
   ]
  },
  {
   "cell_type": "code",
   "execution_count": null,
   "id": "3e73cff4-9927-4db5-9783-65e1fe65d32b",
   "metadata": {
    "editable": true,
    "slideshow": {
     "slide_type": ""
    },
    "tags": []
   },
   "outputs": [],
   "source": [
    "muon = Particle.from_name(\"mu+\")\n",
    "muon"
   ]
  },
  {
   "cell_type": "code",
   "execution_count": null,
   "id": "86e6b561-3054-4552-b166-47f26a9d5630",
   "metadata": {
    "editable": true,
    "slideshow": {
     "slide_type": ""
    },
    "tags": []
   },
   "outputs": [],
   "source": [
    "?muon"
   ]
  },
  {
   "cell_type": "code",
   "execution_count": null,
   "id": "310dfbc4-99ba-40d5-a9fc-40de059cc55b",
   "metadata": {
    "editable": true,
    "slideshow": {
     "slide_type": ""
    },
    "tags": []
   },
   "outputs": [],
   "source": [
    "dir(muon)"
   ]
  },
  {
   "cell_type": "code",
   "execution_count": null,
   "id": "8babcaa2-df67-40d9-aab9-05e4d075dc14",
   "metadata": {
    "editable": true,
    "slideshow": {
     "slide_type": ""
    },
    "tags": []
   },
   "outputs": [],
   "source": []
  },
  {
   "cell_type": "code",
   "execution_count": null,
   "id": "1a28d4b3-53f9-4839-87bd-97631c2d0cc8",
   "metadata": {
    "editable": true,
    "slideshow": {
     "slide_type": ""
    },
    "tags": []
   },
   "outputs": [],
   "source": []
  },
  {
   "cell_type": "code",
   "execution_count": null,
   "id": "fd84c0ea-9f43-49ac-9799-8f10818bd1c1",
   "metadata": {
    "editable": true,
    "slideshow": {
     "slide_type": ""
    },
    "tags": []
   },
   "outputs": [],
   "source": []
  },
  {
   "cell_type": "markdown",
   "id": "42b798f1-25e1-447e-a7ba-f217a0e92855",
   "metadata": {
    "editable": true,
    "slideshow": {
     "slide_type": "slide"
    },
    "tags": []
   },
   "source": [
    "**Quizlet:** before you run the following, what will it do?\n",
    "\n",
    "```python\n",
    "type(type(1)(\"2\"))\n",
    "```"
   ]
  },
  {
   "cell_type": "code",
   "execution_count": null,
   "id": "8ac4ccd5-b975-49f7-81a0-de773eaf8096",
   "metadata": {
    "editable": true,
    "slideshow": {
     "slide_type": ""
    },
    "tags": []
   },
   "outputs": [],
   "source": []
  },
  {
   "cell_type": "code",
   "execution_count": null,
   "id": "f7a04440-747a-4fa3-8b5e-69f9e9fd89a7",
   "metadata": {
    "editable": true,
    "slideshow": {
     "slide_type": ""
    },
    "tags": []
   },
   "outputs": [],
   "source": []
  },
  {
   "cell_type": "code",
   "execution_count": null,
   "id": "a13e3188-3ae1-41ce-adc5-50acaa29f80d",
   "metadata": {
    "editable": true,
    "slideshow": {
     "slide_type": ""
    },
    "tags": []
   },
   "outputs": [],
   "source": []
  },
  {
   "cell_type": "markdown",
   "id": "2a75f14b-46fc-4b37-aa26-57ce8185fe73",
   "metadata": {
    "editable": true,
    "slideshow": {
     "slide_type": "fragment"
    },
    "tags": []
   },
   "source": [
    "**Quizlet:** Before you run it, what will this do?\n",
    "\n",
    "```python\n",
    "some_list[2:8][3]\n",
    "```"
   ]
  },
  {
   "cell_type": "code",
   "execution_count": null,
   "id": "09f021e5-92e8-40b8-a5ef-03b8331b248c",
   "metadata": {
    "editable": true,
    "slideshow": {
     "slide_type": ""
    },
    "tags": []
   },
   "outputs": [],
   "source": [
    "some_list = [0.0, 1.1, 2.2, 33333, 4.4, 5.5, 6.6, 7.7, 8.8, 9.9, 'mixed types']\n",
    "some_dict = {'one': 1.1, 'two': 22222, 'three': 3.3, 123: 'mixed types'}"
   ]
  },
  {
   "cell_type": "code",
   "execution_count": null,
   "id": "9217f538-f791-4095-802c-2608dc1608d2",
   "metadata": {
    "editable": true,
    "slideshow": {
     "slide_type": ""
    },
    "tags": []
   },
   "outputs": [],
   "source": []
  },
  {
   "cell_type": "code",
   "execution_count": null,
   "id": "3f07b1a7-1491-41b4-9bca-bf7962b3a5b0",
   "metadata": {
    "editable": true,
    "slideshow": {
     "slide_type": ""
    },
    "tags": []
   },
   "outputs": [],
   "source": []
  },
  {
   "cell_type": "code",
   "execution_count": null,
   "id": "474c36e9-0923-4919-a3dd-c9b8bf973ab9",
   "metadata": {
    "editable": true,
    "slideshow": {
     "slide_type": ""
    },
    "tags": []
   },
   "outputs": [],
   "source": []
  },
  {
   "cell_type": "markdown",
   "id": "c21bd26c-4580-4748-88b8-a6f86d642b9c",
   "metadata": {
    "editable": true,
    "slideshow": {
     "slide_type": "slide"
    },
    "tags": []
   },
   "source": [
    "Starting from the observed electrons and muons, we reconstruct unobserved particles by adding energy and momentum.\n",
    "\n",
    "<br>\n",
    "\n",
    "<center>\n",
    "<img src=\"../img/higgs-to-four-leptons-diagram.png\" width=\"600px\">\n",
    "</center>"
   ]
  },
  {
   "cell_type": "code",
   "execution_count": 29,
   "id": "86a46f63-4f40-44b4-96dc-3f3752ac0086",
   "metadata": {},
   "outputs": [],
   "source": [
    "import json\n",
    "\n",
    "import numpy as np\n",
    "import vector\n",
    "\n",
    "dataset = json.load(open(\"../data/SMHiggsToZZTo4L.json\"))\n",
    "\n",
    "def to_vector(particle):\n",
    "    return vector.obj(\n",
    "        pt=particle[\"pt\"],\n",
    "        eta=particle[\"eta\"],\n",
    "        phi=particle[\"phi\"],\n",
    "        mass=particle[\"mass\"],\n",
    "    )"
   ]
  },
  {
   "cell_type": "code",
   "execution_count": 30,
   "id": "cb4476cc-7e0b-4485-904e-7b8a820230b1",
   "metadata": {},
   "outputs": [],
   "source": [
    "electrons_and_muons = []   # collectively known as \"leptons\"\n",
    "\n",
    "event = dataset[96]   # a nice event with 3 electrons and 3 muons\n",
    "\n",
    "for particle in event[\"electron\"]:\n",
    "    electrons_and_muons.append({\n",
    "        \"type\": \"electron\",\n",
    "        \"charge\": particle[\"charge\"],\n",
    "        \"vector\": to_vector(particle),\n",
    "    })\n",
    "\n",
    "for particle in event[\"muon\"]:\n",
    "    electrons_and_muons.append({\n",
    "        \"type\": \"muon\",\n",
    "        \"charge\": particle[\"charge\"],\n",
    "        \"vector\": to_vector(particle),\n",
    "    })"
   ]
  },
  {
   "cell_type": "code",
   "execution_count": 31,
   "id": "607484ef-e40d-4ef9-be77-da242a0737fa",
   "metadata": {},
   "outputs": [],
   "source": [
    "z_candidates_step0 = []\n",
    "\n",
    "for index_i, particle_i in enumerate(electrons_and_muons):\n",
    "    for index_j, particle_j in enumerate(electrons_and_muons):\n",
    "        if index_i < index_j:\n",
    "            z_candidates_step0.append({\n",
    "                \"index\": [index_i, index_j],\n",
    "                \"types\": [particle_i[\"type\"], particle_j[\"type\"]],\n",
    "                \"charge\": particle_i[\"charge\"] + particle_j[\"charge\"],\n",
    "                \"vector\": particle_i[\"vector\"] + particle_j[\"vector\"],\n",
    "            })"
   ]
  },
  {
   "cell_type": "code",
   "execution_count": 32,
   "id": "0f1cefee-9837-4155-8efd-87d29b0c5e87",
   "metadata": {},
   "outputs": [
    {
     "data": {
      "text/plain": [
       "15"
      ]
     },
     "execution_count": 32,
     "metadata": {},
     "output_type": "execute_result"
    }
   ],
   "source": [
    "len(z_candidates_step0)"
   ]
  },
  {
   "cell_type": "code",
   "execution_count": 33,
   "id": "46a5832f-e1cd-436e-9214-45aaa3f1c7ae",
   "metadata": {},
   "outputs": [
    {
     "data": {
      "text/plain": [
       "[{'index': [0, 1],\n",
       "  'types': ['electron', 'electron'],\n",
       "  'charge': 2,\n",
       "  'vector': MomentumObject4D(pt=40.084151950131194, phi=-0.6580858017992637, eta=-1.2143331645098763, mass=32.24456915679218)},\n",
       " {'index': [0, 2],\n",
       "  'types': ['electron', 'electron'],\n",
       "  'charge': 0,\n",
       "  'vector': MomentumObject4D(pt=6.464674561578544, phi=0.10078897794774777, eta=-3.989514832524117, mass=94.65200565609618)},\n",
       " {'index': [0, 3],\n",
       "  'types': ['electron', 'muon'],\n",
       "  'charge': 0,\n",
       "  'vector': MomentumObject4D(pt=30.812644923851234, phi=-0.412697403556324, eta=-1.9702089194061905, mass=62.033974889441176)},\n",
       " {'index': [0, 4],\n",
       "  'types': ['electron', 'muon'],\n",
       "  'charge': 2,\n",
       "  'vector': MomentumObject4D(pt=55.701820519681725, phi=-0.43045845531439664, eta=-1.1773805208456656, mass=30.631403745232788)},\n",
       " {'index': [0, 5],\n",
       "  'types': ['electron', 'muon'],\n",
       "  'charge': 2,\n",
       "  'vector': MomentumObject4D(pt=39.473160288191224, phi=-0.6524413545119159, eta=-1.2506105973324255, mass=34.23861813708032)},\n",
       " {'index': [1, 2],\n",
       "  'types': ['electron', 'electron'],\n",
       "  'charge': 0,\n",
       "  'vector': MomentumObject4D(pt=45.698085216230076, phi=2.312330094981199, eta=-1.83858341771892, mass=3.417050436103103)},\n",
       " {'index': [1, 3],\n",
       "  'types': ['electron', 'muon'],\n",
       "  'charge': 0,\n",
       "  'vector': MomentumObject4D(pt=22.591766081184634, phi=1.98399761429663, eta=-1.8995903966627266, mass=3.0877329094985995)},\n",
       " {'index': [1, 4],\n",
       "  'types': ['electron', 'muon'],\n",
       "  'charge': 2,\n",
       "  'vector': MomentumObject4D(pt=16.542286068162028, phi=0.6344481184017461, eta=-1.7724606743114646, mass=14.922348921004309)},\n",
       " {'index': [1, 5],\n",
       "  'types': ['electron', 'muon'],\n",
       "  'charge': 2,\n",
       "  'vector': MomentumObject4D(pt=10.84880571267206, phi=2.1492898041752797, eta=-1.7009633346999835, mass=0.14549763186225548)},\n",
       " {'index': [2, 3],\n",
       "  'types': ['electron', 'muon'],\n",
       "  'charge': -2,\n",
       "  'vector': MomentumObject4D(pt=57.29693877301669, phi=2.213745500274828, eta=-1.897818590379693, mass=10.82878675236218)},\n",
       " {'index': [2, 4],\n",
       "  'types': ['electron', 'muon'],\n",
       "  'charge': 0,\n",
       "  'vector': MomentumObject4D(pt=36.95922853480514, phi=1.9002749252865225, eta=-2.1734110902429054, mass=45.69023328291932)},\n",
       " {'index': [2, 5],\n",
       "  'types': ['electron', 'muon'],\n",
       "  'charge': 0,\n",
       "  'vector': MomentumObject4D(pt=46.33886315685653, phi=2.3098405610093318, eta=-1.836994136824686, mass=3.662258378013069)},\n",
       " {'index': [3, 4],\n",
       "  'types': ['muon', 'muon'],\n",
       "  'charge': 0,\n",
       "  'vector': MomentumObject4D(pt=24.06421811530411, phi=1.1497386717456664, eta=-2.0724294483460883, mass=26.45024522236556)},\n",
       " {'index': [3, 5],\n",
       "  'types': ['muon', 'muon'],\n",
       "  'charge': 0,\n",
       "  'vector': MomentumObject4D(pt=23.235582917776497, phi=1.9881887244583885, eta=-1.894832011571504, mass=3.2737370390909524)},\n",
       " {'index': [4, 5],\n",
       "  'types': ['muon', 'muon'],\n",
       "  'charge': 2,\n",
       "  'vector': MomentumObject4D(pt=16.601217831332843, phi=0.6735693652124386, eta=-1.80301124459845, mass=15.8366294045939)}]"
      ]
     },
     "execution_count": 33,
     "metadata": {},
     "output_type": "execute_result"
    }
   ],
   "source": [
    "z_candidates_step0"
   ]
  },
  {
   "cell_type": "markdown",
   "id": "18945903-45a8-473c-a8e0-640207a998d3",
   "metadata": {},
   "source": [
    "## Exercise 1"
   ]
  },
  {
   "cell_type": "code",
   "execution_count": 38,
   "id": "a1561ce7-2277-43e2-83b9-6ded5909e4e4",
   "metadata": {},
   "outputs": [],
   "source": [
    "z_candidates_step1 = []\n",
    "\n",
    "for x, candidate in enumerate(z_candidates_step0):\n",
    "    if ((z_candidates_step0[x]['types']==['electron', 'electron'] or z_candidates_step0[x]['types']==['muon', 'muon']) and (z_candidates_step0[x]['charge']==0)):\n",
    "        z_candidates_step1.append(candidate)"
   ]
  },
  {
   "cell_type": "code",
   "execution_count": 39,
   "id": "663e6f1e-985f-4e62-b27c-5d9535f3263d",
   "metadata": {},
   "outputs": [
    {
     "name": "stdout",
     "output_type": "stream",
     "text": [
      "['electron', 'electron'] 94.65200565609618\n",
      "['electron', 'electron'] 3.417050436103103\n",
      "['muon', 'muon'] 26.45024522236556\n",
      "['muon', 'muon'] 3.2737370390909524\n"
     ]
    }
   ],
   "source": [
    "for candidate in z_candidates_step1:\n",
    "    print(candidate[\"types\"], candidate[\"vector\"].mass)"
   ]
  },
  {
   "cell_type": "code",
   "execution_count": 40,
   "id": "7f4fac93-684f-4634-91a9-daa54a913ec9",
   "metadata": {},
   "outputs": [],
   "source": [
    "##enumerate helps get both the index and the item in the list at the same time... so we can say for this candidate iterating over x chose this index where the type class is e-e or mu-mu and give the condition for charge"
   ]
  },
  {
   "cell_type": "markdown",
   "id": "8f3bdf90-9022-4694-9cee-337d8496c1c7",
   "metadata": {},
   "source": [
    "## Exercise 2"
   ]
  },
  {
   "cell_type": "code",
   "execution_count": 46,
   "id": "565f36bb-ee64-4d1e-a85f-a09c09a53f34",
   "metadata": {},
   "outputs": [],
   "source": [
    "higgs_candidates_step1 = []\n",
    "\n",
    "for z_index1, z_candidate1 in enumerate(z_candidates_step1):\n",
    "    for z_index2, z_candidate2 in enumerate(z_candidates_step1):\n",
    "        if z_index1 < z_index2:\n",
    "            lepton_i1, lepton_j1 = z_candidate1[\"index\"]\n",
    "            lepton_i2, lepton_j2 = z_candidate2[\"index\"]\n",
    "            if ((lepton_i1 != lepton_i2 and lepton_j1 != lepton_j2) and (lepton_i1 != lepton_j2 and lepton_j1 != lepton_i2)) :\n",
    "                higgs_candidates_step1.append({\n",
    "                    \"z_candidates\": [z_candidate1, z_candidate2],\n",
    "                    \"vector\": z_candidate1[\"vector\"] + z_candidate2[\"vector\"],\n",
    "                })"
   ]
  },
  {
   "cell_type": "code",
   "execution_count": 47,
   "id": "2a41c86c-1545-421d-ba8d-7d30085528f4",
   "metadata": {},
   "outputs": [
    {
     "name": "stdout",
     "output_type": "stream",
     "text": [
      "0 2 3 4 129.0346159691587\n",
      "0 2 3 5 118.8311777089631\n",
      "1 2 3 4 56.10989169721264\n",
      "1 2 3 5 12.750734071856588\n"
     ]
    }
   ],
   "source": [
    "for higgs_candidate in higgs_candidates_step1:\n",
    "    z_candidate1, z_candidate2 = higgs_candidate[\"z_candidates\"]\n",
    "    lepton_index1, lepton_index2 = z_candidate1[\"index\"]\n",
    "    lepton_index3, lepton_index4 = z_candidate2[\"index\"]\n",
    "    print(\n",
    "        lepton_index1,\n",
    "        lepton_index2,\n",
    "        lepton_index3,\n",
    "        lepton_index4,\n",
    "        higgs_candidate[\"vector\"].mass,\n",
    "    )"
   ]
  },
  {
   "cell_type": "code",
   "execution_count": 48,
   "id": "fedbcc65-490b-4c08-acb4-ed833583a7b1",
   "metadata": {},
   "outputs": [],
   "source": [
    "higgs_candidates_step2 = {}\n",
    "\n",
    "for higgs_candidate in higgs_candidates_step1:\n",
    "    z_candidate1, z_candidate2 = higgs_candidate[\"z_candidates\"]\n",
    "    lepton_index1, lepton_index2 = z_candidate1[\"index\"]\n",
    "    lepton_index3, lepton_index4 = z_candidate2[\"index\"]\n",
    "\n",
    "    combination = tuple(sorted([\n",
    "        lepton_index1, lepton_index2, lepton_index3, lepton_index4\n",
    "    ]))\n",
    "\n",
    "    if combination not in higgs_candidates_step2:\n",
    "        higgs_candidates_step2[combination] = []\n",
    "\n",
    "    higgs_candidates_step2[combination].append(higgs_candidate)"
   ]
  },
  {
   "cell_type": "code",
   "execution_count": 49,
   "id": "ccc57343-6310-4196-bc9c-150f650e5487",
   "metadata": {},
   "outputs": [
    {
     "name": "stdout",
     "output_type": "stream",
     "text": [
      "(0, 2, 3, 4)\n",
      "    Higgs: 129.0346159691587 Z: 94.65200565609618 26.45024522236556\n",
      "(0, 2, 3, 5)\n",
      "    Higgs: 118.8311777089631 Z: 94.65200565609618 3.2737370390909524\n",
      "(1, 2, 3, 4)\n",
      "    Higgs: 56.10989169721264 Z: 3.417050436103103 26.45024522236556\n",
      "(1, 2, 3, 5)\n",
      "    Higgs: 12.750734071856588 Z: 3.417050436103103 3.2737370390909524\n"
     ]
    }
   ],
   "source": [
    "for combination in higgs_candidates_step2:\n",
    "    print(combination)\n",
    "    for higgs_candidate in higgs_candidates_step2[combination]:\n",
    "        z_candidate1, z_candidate2 = higgs_candidate[\"z_candidates\"]\n",
    "        print(\n",
    "            \"    Higgs:\",\n",
    "            higgs_candidate[\"vector\"].mass,\n",
    "            \"Z:\",\n",
    "            z_candidate1[\"vector\"].mass,\n",
    "            z_candidate2[\"vector\"].mass,\n",
    "        )"
   ]
  },
  {
   "cell_type": "code",
   "execution_count": null,
   "id": "d3469d58-f904-404c-a7a0-efd1cc4078d0",
   "metadata": {},
   "outputs": [],
   "source": []
  },
  {
   "cell_type": "markdown",
   "id": "b6e5cc25-0b80-4694-be7e-f463644a7d05",
   "metadata": {},
   "source": [
    "## Exercise 3"
   ]
  },
  {
   "cell_type": "code",
   "execution_count": 51,
   "id": "d75823c3-8bdd-463e-b89a-5ecb0b4bd3ad",
   "metadata": {},
   "outputs": [],
   "source": [
    "higgs_candidates_step3 = {}\n",
    "\n",
    "for combination in higgs_candidates_step2:\n",
    "    higgs_candidates_step3[combination] = []\n",
    "\n",
    "    for higgs_candidate in higgs_candidates_step2[combination]:\n",
    "        z_candidate1, z_candidate2 = higgs_candidate[\"z_candidates\"]\n",
    "        smallest_z_mass = min(z_candidate1['vector'].mass, z_candidate2['vector'].mass)\n",
    "        largest_z_mass = max(z_candidate1['vector'].mass, z_candidate2['vector'].mass)\n",
    "\n",
    "        if 12 < smallest_z_mass < 120 and 40 < largest_z_mass < 120:\n",
    "            higgs_candidates_step3[combination].append(higgs_candidate)"
   ]
  },
  {
   "cell_type": "code",
   "execution_count": 52,
   "id": "2a46b865-5caf-4983-a0b6-899bf29a543d",
   "metadata": {},
   "outputs": [
    {
     "name": "stdout",
     "output_type": "stream",
     "text": [
      "(0, 2, 3, 4)\n",
      "    Higgs: 129.0346159691587 Z: 94.65200565609618 26.45024522236556\n",
      "(0, 2, 3, 5)\n",
      "(1, 2, 3, 4)\n",
      "(1, 2, 3, 5)\n"
     ]
    }
   ],
   "source": [
    "for combination in higgs_candidates_step3:\n",
    "    print(combination)\n",
    "    for higgs_candidate in higgs_candidates_step3[combination]:\n",
    "        z_candidate1, z_candidate2 = higgs_candidate[\"z_candidates\"]\n",
    "        print(\n",
    "            \"    Higgs:\",\n",
    "            higgs_candidate[\"vector\"].mass,\n",
    "            \"Z:\",\n",
    "            z_candidate1[\"vector\"].mass,\n",
    "            z_candidate2[\"vector\"].mass,\n",
    "        )"
   ]
  },
  {
   "cell_type": "code",
   "execution_count": null,
   "id": "3fa8eb1a-8387-40e7-80b9-33d7931097fd",
   "metadata": {},
   "outputs": [],
   "source": []
  },
  {
   "cell_type": "code",
   "execution_count": null,
   "id": "363d1670-32da-4124-8ac1-604bfa993f9b",
   "metadata": {},
   "outputs": [],
   "source": []
  },
  {
   "cell_type": "markdown",
   "id": "22a30184-f800-4ad9-bb35-1ff97f170eb7",
   "metadata": {},
   "source": [
    "## check"
   ]
  },
  {
   "cell_type": "code",
   "execution_count": 23,
   "id": "4b71cd11-7293-4b01-8d85-fca8d7ccf4d0",
   "metadata": {
    "editable": true,
    "slideshow": {
     "slide_type": "fragment"
    },
    "tags": []
   },
   "outputs": [],
   "source": [
    "particles = [\n",
    "    {\"type\": \"electron\", \"E\": 171.848714, \"px\": 38.4242935, \"py\": -28.779644, \"pz\": 165.006927, \"charge\": 1,},\n",
    "    {\"type\": \"electron\", \"E\": 138.501266, \"px\": -34.431419, \"py\": 24.6730384, \"pz\": 131.864776, \"charge\": -1,},\n",
    "    {\"type\": \"muon\", \"E\": 68.1289790, \"px\": -17.945541, \"py\": 13.1652603, \"pz\": 64.3908386, \"charge\": 1,},\n",
    "    {\"type\": \"muon\", \"E\": 18.8320473, \"px\": -8.1843795, \"py\": -7.6400470, \"pz\": 15.1420097, \"charge\": -1,},\n",
    "]"
   ]
  },
  {
   "cell_type": "code",
   "execution_count": 24,
   "id": "11826c1f-fa7a-4289-9e9c-f4d009e3ef0c",
   "metadata": {
    "editable": true,
    "slideshow": {
     "slide_type": "fragment"
    },
    "tags": []
   },
   "outputs": [],
   "source": [
    "def particle_decay(name, particle1, particle2):\n",
    "    return {\n",
    "        \"type\": name,\n",
    "        \"E\": particle1[\"E\"] + particle2[\"E\"],\n",
    "        \"px\": particle1[\"px\"] + particle2[\"px\"],\n",
    "        \"py\": particle1[\"py\"] + particle2[\"py\"],\n",
    "        \"pz\": particle1[\"pz\"] + particle2[\"pz\"],\n",
    "        \"charge\": particle1[\"charge\"] + particle2[\"charge\"],\n",
    "    }"
   ]
  },
  {
   "cell_type": "code",
   "execution_count": 25,
   "id": "9fe20987-105e-4f03-8bd9-e2bdad23d682",
   "metadata": {
    "editable": true,
    "slideshow": {
     "slide_type": "slide"
    },
    "tags": []
   },
   "outputs": [
    {
     "data": {
      "text/plain": [
       "{'type': 'Z boson',\n",
       " 'E': 310.34997999999996,\n",
       " 'px': 3.992874499999999,\n",
       " 'py': -4.106605600000002,\n",
       " 'pz': 296.871703,\n",
       " 'charge': 0}"
      ]
     },
     "execution_count": 25,
     "metadata": {},
     "output_type": "execute_result"
    }
   ],
   "source": [
    "z1 = particle_decay(\"Z boson\", particles[0], particles[1])\n",
    "z1"
   ]
  },
  {
   "cell_type": "code",
   "execution_count": 26,
   "id": "bb45cc83-44d5-4850-be90-afcd9d22e41b",
   "metadata": {
    "editable": true,
    "slideshow": {
     "slide_type": ""
    },
    "tags": []
   },
   "outputs": [
    {
     "data": {
      "text/plain": [
       "{'type': 'Z boson',\n",
       " 'E': 86.9610263,\n",
       " 'px': -26.129920499999997,\n",
       " 'py': 5.5252133,\n",
       " 'pz': 79.5328483,\n",
       " 'charge': 0}"
      ]
     },
     "execution_count": 26,
     "metadata": {},
     "output_type": "execute_result"
    }
   ],
   "source": [
    "z2 = particle_decay(\"Z boson\", particles[2], particles[3])\n",
    "z2"
   ]
  },
  {
   "cell_type": "code",
   "execution_count": 28,
   "id": "bf49b07f-d89e-40ab-8fef-b3a78b22d7a3",
   "metadata": {
    "editable": true,
    "slideshow": {
     "slide_type": ""
    },
    "tags": []
   },
   "outputs": [
    {
     "data": {
      "text/plain": [
       "{'type': 'Higgs boson',\n",
       " 'E': 397.3110063,\n",
       " 'px': -22.137045999999998,\n",
       " 'py': 1.4186076999999981,\n",
       " 'pz': 376.40455130000004,\n",
       " 'charge': 0}"
      ]
     },
     "execution_count": 28,
     "metadata": {},
     "output_type": "execute_result"
    }
   ],
   "source": [
    "higgs = particle_decay(\"Higgs boson\", z1, z2)\n",
    "higgs"
   ]
  },
  {
   "cell_type": "markdown",
   "id": "de66f0fd-5378-48f0-9991-5164aa84c20c",
   "metadata": {
    "editable": true,
    "slideshow": {
     "slide_type": "slide"
    },
    "tags": []
   },
   "source": [
    "**Quizlet:** Define the `particle_mass` function and compute the mass of `z1`, `z2`, and `higgs`.\n",
    "\n",
    "| input | expected output |\n",
    "|:--|:--|\n",
    "| `particle_mass(z1)` | `90.28562890933117` |\n",
    "| `particle_mass(z2)` | `22.878929369436445` |\n",
    "| `particle_mass(higgs)` | `125.23413366311769` |"
   ]
  },
  {
   "cell_type": "code",
   "execution_count": null,
   "id": "99080421-b137-443a-b223-f32b91dff08c",
   "metadata": {
    "editable": true,
    "slideshow": {
     "slide_type": ""
    },
    "tags": []
   },
   "outputs": [],
   "source": [
    "def particle_mass(particle):\n",
    "    ..."
   ]
  },
  {
   "cell_type": "code",
   "execution_count": null,
   "id": "c3cb9758-03ea-475f-9023-eae37d15f3d7",
   "metadata": {
    "editable": true,
    "slideshow": {
     "slide_type": ""
    },
    "tags": []
   },
   "outputs": [],
   "source": []
  },
  {
   "cell_type": "code",
   "execution_count": null,
   "id": "41890de9-004c-40e4-8aaa-dfbff3b59304",
   "metadata": {
    "editable": true,
    "slideshow": {
     "slide_type": ""
    },
    "tags": []
   },
   "outputs": [],
   "source": []
  },
  {
   "cell_type": "code",
   "execution_count": null,
   "id": "654607d7-c0c2-4169-8436-990cbf7bc69a",
   "metadata": {
    "editable": true,
    "slideshow": {
     "slide_type": ""
    },
    "tags": []
   },
   "outputs": [],
   "source": []
  },
  {
   "cell_type": "markdown",
   "id": "9646f64a-4d23-4916-a2bd-3d753d5d16b6",
   "metadata": {
    "editable": true,
    "slideshow": {
     "slide_type": ""
    },
    "tags": []
   },
   "source": [
    "### Mini-project: let's make an event display"
   ]
  },
  {
   "cell_type": "code",
   "execution_count": null,
   "id": "8bbf5bf4-41bb-4fe5-b1f9-db31f27fd036",
   "metadata": {
    "editable": true,
    "slideshow": {
     "slide_type": ""
    },
    "tags": []
   },
   "outputs": [],
   "source": [
    "dataset = json.load(open(\"../data/SMHiggsToZZTo4L.json\"))"
   ]
  },
  {
   "cell_type": "code",
   "execution_count": null,
   "id": "76ce07e5-50e1-4e8f-a1c9-4fe5d2239bfb",
   "metadata": {
    "tags": []
   },
   "outputs": [],
   "source": [
    "def to_vector(particle):\n",
    "    return vector.obj(\n",
    "        pt=particle[\"pt\"],\n",
    "        eta=particle[\"eta\"],\n",
    "        phi=particle[\"phi\"],\n",
    "        mass=particle[\"mass\"],\n",
    "    )"
   ]
  },
  {
   "cell_type": "code",
   "execution_count": null,
   "id": "583ad022-b560-4f68-8046-9f45d48a76bf",
   "metadata": {
    "editable": true,
    "slideshow": {
     "slide_type": ""
    },
    "tags": []
   },
   "outputs": [],
   "source": [
    "%matplotlib widget\n",
    "\n",
    "fig = plt.figure()"
   ]
  },
  {
   "cell_type": "code",
   "execution_count": null,
   "id": "7cba7e21-0b9f-49bc-b1a7-564297ce6e81",
   "metadata": {
    "tags": []
   },
   "outputs": [],
   "source": [
    "def draw_particle(ax, particle, color):\n",
    "    v = to_vector(particle)\n",
    "    ax.plot([0, v.px], [0, v.py], [0, v.pz], c=color)"
   ]
  },
  {
   "cell_type": "code",
   "execution_count": null,
   "id": "e482dbda-c31f-405b-bccf-211fbf7a06a2",
   "metadata": {
    "tags": []
   },
   "outputs": [],
   "source": [
    "def draw_event(ax, event):\n",
    "    for particle in event[\"electron\"]:\n",
    "        draw_particle(ax, particle, \"blue\")\n",
    "    for particle in event[\"muon\"]:\n",
    "        draw_particle(ax, particle, \"green\")"
   ]
  },
  {
   "cell_type": "code",
   "execution_count": null,
   "id": "e434cf5e-44e8-4418-8690-6561ec4f771b",
   "metadata": {
    "tags": []
   },
   "outputs": [],
   "source": [
    "fig.clf()\n",
    "ax = fig.add_subplot(111, projection=\"3d\")\n",
    "\n",
    "draw_event(ax, dataset[0])"
   ]
  },
  {
   "cell_type": "code",
   "execution_count": null,
   "id": "696722af-fdd5-4b0c-9573-cb00fb9b404d",
   "metadata": {
    "tags": []
   },
   "outputs": [],
   "source": [
    "fig.clf()\n",
    "ax = fig.add_subplot(111, projection=\"3d\")\n",
    "\n",
    "for event in dataset[0:10]:\n",
    "    draw_event(ax, event)"
   ]
  },
  {
   "cell_type": "markdown",
   "id": "de2c5f70-34fc-48c1-b3d5-d97665e90460",
   "metadata": {
    "tags": []
   },
   "source": [
    "Add more to the event display, for context."
   ]
  },
  {
   "cell_type": "code",
   "execution_count": null,
   "id": "89462b06-f08d-45b6-99f2-08247458a8ce",
   "metadata": {
    "editable": true,
    "slideshow": {
     "slide_type": ""
    },
    "tags": []
   },
   "outputs": [],
   "source": [
    "def beamline(ax):\n",
    "    ax.plot([0, 0], [0, 0], [-100, 100], c=\"black\", ls=\":\")"
   ]
  },
  {
   "cell_type": "code",
   "execution_count": null,
   "id": "ba014bdd-5de2-469b-91e3-5bccde9970d9",
   "metadata": {
    "editable": true,
    "slideshow": {
     "slide_type": ""
    },
    "tags": []
   },
   "outputs": [],
   "source": [
    "def cms_outline(ax):\n",
    "    z = np.linspace(-100, 100, 50)\n",
    "    theta = np.linspace(0, 2 * np.pi, 12)\n",
    "    theta_grid, z_grid = np.meshgrid(theta, z)\n",
    "    x_grid = 100 * np.cos(theta_grid)\n",
    "    y_grid = 100 * np.sin(theta_grid)\n",
    "    ax.plot_surface(x_grid, y_grid, z_grid, alpha=0.2, color=\"red\")"
   ]
  },
  {
   "cell_type": "code",
   "execution_count": null,
   "id": "ed46194b-bf00-4f8e-ac01-d769cf930b55",
   "metadata": {
    "tags": []
   },
   "outputs": [],
   "source": [
    "fig.clf()\n",
    "ax = fig.add_subplot(111, projection=\"3d\")\n",
    "\n",
    "beamline(ax)\n",
    "cms_outline(ax)\n",
    "draw_event(ax, dataset[6417])  # has lots of electrons and muons\n",
    "\n",
    "ax.set_xlim(-100, 100)\n",
    "ax.set_ylim(-100, 100)\n",
    "ax.set_zlim(-100, 100)\n",
    "ax.set_xlabel(\"x\")\n",
    "ax.set_ylabel(\"y\")\n",
    "ax.set_zlabel(\"z\")"
   ]
  },
  {
   "cell_type": "code",
   "execution_count": null,
   "id": "2729c025-681d-4dc1-b046-0104994d6caa",
   "metadata": {
    "editable": true,
    "slideshow": {
     "slide_type": ""
    },
    "tags": []
   },
   "outputs": [],
   "source": [
    "def draw_position_and_momentum(ax, event, particle, color):\n",
    "    # 1 unit is 1 cm\n",
    "    x0 = event[\"PV\"][\"x\"] - particle[\"dxy\"] * np.cos(particle[\"phi\"])\n",
    "    y0 = event[\"PV\"][\"y\"] - particle[\"dxy\"] * np.sin(particle[\"phi\"])\n",
    "    z0 = event[\"PV\"][\"z\"] - particle[\"dz\"]\n",
    "\n",
    "    # 1 unit is 1 GeV/c\n",
    "    v = to_vector(particle)\n",
    "    ax.plot([x0, x0 + v.px], [y0, y0 + v.py], [z0, z0 + v.pz], c=color)"
   ]
  },
  {
   "cell_type": "code",
   "execution_count": null,
   "id": "f690b5f8-873a-448f-b93f-048903273dc4",
   "metadata": {
    "tags": []
   },
   "outputs": [],
   "source": [
    "fig.clf()\n",
    "ax = fig.add_subplot(111, projection=\"3d\")\n",
    "\n",
    "beamline(ax)\n",
    "\n",
    "event = dataset[6417]  # has lots of electrons and muons\n",
    "\n",
    "for particle in event[\"electron\"]:\n",
    "    draw_position_and_momentum(ax, event, particle, \"blue\")\n",
    "for particle in event[\"muon\"]:\n",
    "    draw_position_and_momentum(ax, event, particle, \"green\")\n",
    "\n",
    "ax.set_xlim(-100, 100)\n",
    "ax.set_ylim(-100, 100)\n",
    "ax.set_zlim(-100, 100)\n",
    "ax.set_xlabel(\"x\")\n",
    "ax.set_ylabel(\"y\")\n",
    "ax.set_zlabel(\"z\")"
   ]
  }
 ],
 "metadata": {
  "kernelspec": {
   "display_name": "Python 3 (ipykernel)",
   "language": "python",
   "name": "python3"
  },
  "language_info": {
   "codemirror_mode": {
    "name": "ipython",
    "version": 3
   },
   "file_extension": ".py",
   "mimetype": "text/x-python",
   "name": "python",
   "nbconvert_exporter": "python",
   "pygments_lexer": "ipython3",
   "version": "3.10.18"
  }
 },
 "nbformat": 4,
 "nbformat_minor": 5
}
